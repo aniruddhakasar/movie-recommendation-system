{
  "nbformat": 4,
  "nbformat_minor": 0,
  "metadata": {
    "kernelspec": {
      "display_name": "Python 3",
      "language": "python",
      "name": "python3"
    },
    "language_info": {
      "codemirror_mode": {
        "name": "ipython",
        "version": 3
      },
      "file_extension": ".py",
      "mimetype": "text/x-python",
      "name": "python",
      "nbconvert_exporter": "python",
      "pygments_lexer": "ipython3",
      "version": "3.8.3"
    },
    "colab": {
      "name": "preprocessing 4.ipynb",
      "provenance": [],
      "collapsed_sections": []
    }
  },
  "cells": [
    {
      "cell_type": "code",
      "metadata": {
        "id": "gZhqxpznOZWS"
      },
      "source": [
        "import pandas as pd\n",
        "import numpy as np\n",
        "import requests\n",
        "import bs4 as bs\n",
        "import urllib.request"
      ],
      "execution_count": 1,
      "outputs": []
    },
    {
      "cell_type": "markdown",
      "metadata": {
        "id": "xhXPbpjhOZWT"
      },
      "source": [
        "## Extracting features of 2020 movies from Wikipedia"
      ]
    },
    {
      "cell_type": "code",
      "metadata": {
        "id": "1o9WJASWOZWT"
      },
      "source": [
        "link = \"https://en.wikipedia.org/wiki/List_of_American_films_of_2020\""
      ],
      "execution_count": 2,
      "outputs": []
    },
    {
      "cell_type": "code",
      "metadata": {
        "id": "TIlfZhgwOZWT"
      },
      "source": [
        "source = urllib.request.urlopen(link).read()\n",
        "soup = bs.BeautifulSoup(source,'lxml')"
      ],
      "execution_count": 3,
      "outputs": []
    },
    {
      "cell_type": "code",
      "metadata": {
        "id": "LFytQ2MaOZWT"
      },
      "source": [
        "tables = soup.find_all('table',class_='wikitable sortable')"
      ],
      "execution_count": 4,
      "outputs": []
    },
    {
      "cell_type": "code",
      "metadata": {
        "colab": {
          "base_uri": "https://localhost:8080/"
        },
        "id": "CdSLuBzGOZWT",
        "outputId": "a59c27fc-00d2-4acd-e5c8-3dd746d78baa"
      },
      "source": [
        "len(tables)"
      ],
      "execution_count": 5,
      "outputs": [
        {
          "output_type": "execute_result",
          "data": {
            "text/plain": [
              "4"
            ]
          },
          "metadata": {
            "tags": []
          },
          "execution_count": 5
        }
      ]
    },
    {
      "cell_type": "code",
      "metadata": {
        "colab": {
          "base_uri": "https://localhost:8080/"
        },
        "id": "VoX7c9O-OZWU",
        "outputId": "78637bfa-e750-4c01-df0a-c791c80097b3"
      },
      "source": [
        "type(tables[0])"
      ],
      "execution_count": 6,
      "outputs": [
        {
          "output_type": "execute_result",
          "data": {
            "text/plain": [
              "bs4.element.Tag"
            ]
          },
          "metadata": {
            "tags": []
          },
          "execution_count": 6
        }
      ]
    },
    {
      "cell_type": "code",
      "metadata": {
        "id": "1y2cECOMOZWU"
      },
      "source": [
        "df1 = pd.read_html(str(tables[0]))[0]\n",
        "df2 = pd.read_html(str(tables[1]))[0]\n",
        "df3 = pd.read_html(str(tables[2]))[0]\n",
        "df4 = pd.read_html(str(tables[3]).replace(\"'1\\\"\\'\",'\"1\"'))[0] # avoided \"ValueError: invalid literal for int() with base 10: '1\"'"
      ],
      "execution_count": 7,
      "outputs": []
    },
    {
      "cell_type": "code",
      "metadata": {
        "id": "t4MN1gZbOZWU"
      },
      "source": [
        "df = df1.append(df2.append(df3.append(df4,ignore_index=True),ignore_index=True),ignore_index=True)"
      ],
      "execution_count": 8,
      "outputs": []
    },
    {
      "cell_type": "code",
      "metadata": {
        "colab": {
          "base_uri": "https://localhost:8080/",
          "height": 406
        },
        "id": "4CCunB-rOZWU",
        "outputId": "a4d69bcd-088c-4655-a445-e8ebafdb10e6"
      },
      "source": [
        "df"
      ],
      "execution_count": 9,
      "outputs": [
        {
          "output_type": "execute_result",
          "data": {
            "text/html": [
              "<div>\n",
              "<style scoped>\n",
              "    .dataframe tbody tr th:only-of-type {\n",
              "        vertical-align: middle;\n",
              "    }\n",
              "\n",
              "    .dataframe tbody tr th {\n",
              "        vertical-align: top;\n",
              "    }\n",
              "\n",
              "    .dataframe thead th {\n",
              "        text-align: right;\n",
              "    }\n",
              "</style>\n",
              "<table border=\"1\" class=\"dataframe\">\n",
              "  <thead>\n",
              "    <tr style=\"text-align: right;\">\n",
              "      <th></th>\n",
              "      <th>Opening</th>\n",
              "      <th>Opening.1</th>\n",
              "      <th>Title</th>\n",
              "      <th>Production company</th>\n",
              "      <th>Cast and crew</th>\n",
              "      <th>Ref.</th>\n",
              "    </tr>\n",
              "  </thead>\n",
              "  <tbody>\n",
              "    <tr>\n",
              "      <th>0</th>\n",
              "      <td>JANUARY</td>\n",
              "      <td>3</td>\n",
              "      <td>The Grudge</td>\n",
              "      <td>Screen Gems / Stage 6 Films / Ghost House Pict...</td>\n",
              "      <td>Nicolas Pesce (director/screenplay); Andrea Ri...</td>\n",
              "      <td>[2]</td>\n",
              "    </tr>\n",
              "    <tr>\n",
              "      <th>1</th>\n",
              "      <td>JANUARY</td>\n",
              "      <td>10</td>\n",
              "      <td>Underwater</td>\n",
              "      <td>20th Century Fox / TSG Entertainment / Chernin...</td>\n",
              "      <td>William Eubank (director); Brian Duffield, Ada...</td>\n",
              "      <td>[3]</td>\n",
              "    </tr>\n",
              "    <tr>\n",
              "      <th>2</th>\n",
              "      <td>JANUARY</td>\n",
              "      <td>10</td>\n",
              "      <td>Three Christs</td>\n",
              "      <td>IFC Films</td>\n",
              "      <td>Jon Avnet (director/screenplay); Eric Nazarian...</td>\n",
              "      <td>NaN</td>\n",
              "    </tr>\n",
              "    <tr>\n",
              "      <th>3</th>\n",
              "      <td>JANUARY</td>\n",
              "      <td>10</td>\n",
              "      <td>Like a Boss</td>\n",
              "      <td>Paramount Pictures</td>\n",
              "      <td>Miguel Arteta (director); Sam Pitman, Adam Col...</td>\n",
              "      <td>[4]</td>\n",
              "    </tr>\n",
              "    <tr>\n",
              "      <th>4</th>\n",
              "      <td>JANUARY</td>\n",
              "      <td>10</td>\n",
              "      <td>Inherit the Viper</td>\n",
              "      <td>Barry Films / Tycor International Film Company</td>\n",
              "      <td>Anthony Jerjen (director); Andrew Crabtree (sc...</td>\n",
              "      <td>[5]</td>\n",
              "    </tr>\n",
              "    <tr>\n",
              "      <th>...</th>\n",
              "      <td>...</td>\n",
              "      <td>...</td>\n",
              "      <td>...</td>\n",
              "      <td>...</td>\n",
              "      <td>...</td>\n",
              "      <td>...</td>\n",
              "    </tr>\n",
              "    <tr>\n",
              "      <th>250</th>\n",
              "      <td>DECEMBER</td>\n",
              "      <td>25</td>\n",
              "      <td>News of the World</td>\n",
              "      <td>Universal Pictures / Netflix / Playtone</td>\n",
              "      <td>Paul Greengrass (director/screenplay); Luke Da...</td>\n",
              "      <td>[226]</td>\n",
              "    </tr>\n",
              "    <tr>\n",
              "      <th>251</th>\n",
              "      <td>DECEMBER</td>\n",
              "      <td>25</td>\n",
              "      <td>One Night in Miami</td>\n",
              "      <td>Amazon Studios</td>\n",
              "      <td>Regina King (director); Kemp Powers (screenpla...</td>\n",
              "      <td>[227]</td>\n",
              "    </tr>\n",
              "    <tr>\n",
              "      <th>252</th>\n",
              "      <td>DECEMBER</td>\n",
              "      <td>25</td>\n",
              "      <td>Promising Young Woman</td>\n",
              "      <td>Focus Features / FilmNation Entertainment</td>\n",
              "      <td>Emerald Fennell (director/screenplay); Carey M...</td>\n",
              "      <td>[228]</td>\n",
              "    </tr>\n",
              "    <tr>\n",
              "      <th>253</th>\n",
              "      <td>DECEMBER</td>\n",
              "      <td>25</td>\n",
              "      <td>Sylvie's Love</td>\n",
              "      <td>Amazon Studios</td>\n",
              "      <td>Eugene Ashe (director/screenplay); Tessa Thomp...</td>\n",
              "      <td>[229]</td>\n",
              "    </tr>\n",
              "    <tr>\n",
              "      <th>254</th>\n",
              "      <td>DECEMBER</td>\n",
              "      <td>30</td>\n",
              "      <td>Pieces of a Woman</td>\n",
              "      <td>Netflix / Bron Studios</td>\n",
              "      <td>Kornél Mundruczó (director); Kata Wéber (scree...</td>\n",
              "      <td>[230]</td>\n",
              "    </tr>\n",
              "  </tbody>\n",
              "</table>\n",
              "<p>255 rows × 6 columns</p>\n",
              "</div>"
            ],
            "text/plain": [
              "      Opening  ...   Ref.\n",
              "0     JANUARY  ...    [2]\n",
              "1     JANUARY  ...    [3]\n",
              "2     JANUARY  ...    NaN\n",
              "3     JANUARY  ...    [4]\n",
              "4     JANUARY  ...    [5]\n",
              "..        ...  ...    ...\n",
              "250  DECEMBER  ...  [226]\n",
              "251  DECEMBER  ...  [227]\n",
              "252  DECEMBER  ...  [228]\n",
              "253  DECEMBER  ...  [229]\n",
              "254  DECEMBER  ...  [230]\n",
              "\n",
              "[255 rows x 6 columns]"
            ]
          },
          "metadata": {
            "tags": []
          },
          "execution_count": 9
        }
      ]
    },
    {
      "cell_type": "code",
      "metadata": {
        "id": "9enI6QkuOZWV"
      },
      "source": [
        "df_2020 = df[['Title','Cast and crew']]"
      ],
      "execution_count": 10,
      "outputs": []
    },
    {
      "cell_type": "code",
      "metadata": {
        "colab": {
          "base_uri": "https://localhost:8080/",
          "height": 406
        },
        "id": "RT0jPJQQOZWV",
        "outputId": "2d6ab58f-996f-4099-e7bb-3e29abadf43c"
      },
      "source": [
        "df_2020"
      ],
      "execution_count": 11,
      "outputs": [
        {
          "output_type": "execute_result",
          "data": {
            "text/html": [
              "<div>\n",
              "<style scoped>\n",
              "    .dataframe tbody tr th:only-of-type {\n",
              "        vertical-align: middle;\n",
              "    }\n",
              "\n",
              "    .dataframe tbody tr th {\n",
              "        vertical-align: top;\n",
              "    }\n",
              "\n",
              "    .dataframe thead th {\n",
              "        text-align: right;\n",
              "    }\n",
              "</style>\n",
              "<table border=\"1\" class=\"dataframe\">\n",
              "  <thead>\n",
              "    <tr style=\"text-align: right;\">\n",
              "      <th></th>\n",
              "      <th>Title</th>\n",
              "      <th>Cast and crew</th>\n",
              "    </tr>\n",
              "  </thead>\n",
              "  <tbody>\n",
              "    <tr>\n",
              "      <th>0</th>\n",
              "      <td>The Grudge</td>\n",
              "      <td>Nicolas Pesce (director/screenplay); Andrea Ri...</td>\n",
              "    </tr>\n",
              "    <tr>\n",
              "      <th>1</th>\n",
              "      <td>Underwater</td>\n",
              "      <td>William Eubank (director); Brian Duffield, Ada...</td>\n",
              "    </tr>\n",
              "    <tr>\n",
              "      <th>2</th>\n",
              "      <td>Three Christs</td>\n",
              "      <td>Jon Avnet (director/screenplay); Eric Nazarian...</td>\n",
              "    </tr>\n",
              "    <tr>\n",
              "      <th>3</th>\n",
              "      <td>Like a Boss</td>\n",
              "      <td>Miguel Arteta (director); Sam Pitman, Adam Col...</td>\n",
              "    </tr>\n",
              "    <tr>\n",
              "      <th>4</th>\n",
              "      <td>Inherit the Viper</td>\n",
              "      <td>Anthony Jerjen (director); Andrew Crabtree (sc...</td>\n",
              "    </tr>\n",
              "    <tr>\n",
              "      <th>...</th>\n",
              "      <td>...</td>\n",
              "      <td>...</td>\n",
              "    </tr>\n",
              "    <tr>\n",
              "      <th>250</th>\n",
              "      <td>News of the World</td>\n",
              "      <td>Paul Greengrass (director/screenplay); Luke Da...</td>\n",
              "    </tr>\n",
              "    <tr>\n",
              "      <th>251</th>\n",
              "      <td>One Night in Miami</td>\n",
              "      <td>Regina King (director); Kemp Powers (screenpla...</td>\n",
              "    </tr>\n",
              "    <tr>\n",
              "      <th>252</th>\n",
              "      <td>Promising Young Woman</td>\n",
              "      <td>Emerald Fennell (director/screenplay); Carey M...</td>\n",
              "    </tr>\n",
              "    <tr>\n",
              "      <th>253</th>\n",
              "      <td>Sylvie's Love</td>\n",
              "      <td>Eugene Ashe (director/screenplay); Tessa Thomp...</td>\n",
              "    </tr>\n",
              "    <tr>\n",
              "      <th>254</th>\n",
              "      <td>Pieces of a Woman</td>\n",
              "      <td>Kornél Mundruczó (director); Kata Wéber (scree...</td>\n",
              "    </tr>\n",
              "  </tbody>\n",
              "</table>\n",
              "<p>255 rows × 2 columns</p>\n",
              "</div>"
            ],
            "text/plain": [
              "                     Title                                      Cast and crew\n",
              "0               The Grudge  Nicolas Pesce (director/screenplay); Andrea Ri...\n",
              "1               Underwater  William Eubank (director); Brian Duffield, Ada...\n",
              "2            Three Christs  Jon Avnet (director/screenplay); Eric Nazarian...\n",
              "3              Like a Boss  Miguel Arteta (director); Sam Pitman, Adam Col...\n",
              "4        Inherit the Viper  Anthony Jerjen (director); Andrew Crabtree (sc...\n",
              "..                     ...                                                ...\n",
              "250      News of the World  Paul Greengrass (director/screenplay); Luke Da...\n",
              "251     One Night in Miami  Regina King (director); Kemp Powers (screenpla...\n",
              "252  Promising Young Woman  Emerald Fennell (director/screenplay); Carey M...\n",
              "253          Sylvie's Love  Eugene Ashe (director/screenplay); Tessa Thomp...\n",
              "254      Pieces of a Woman  Kornél Mundruczó (director); Kata Wéber (scree...\n",
              "\n",
              "[255 rows x 2 columns]"
            ]
          },
          "metadata": {
            "tags": []
          },
          "execution_count": 11
        }
      ]
    },
    {
      "cell_type": "code",
      "metadata": {
        "colab": {
          "base_uri": "https://localhost:8080/"
        },
        "id": "KYTIVryiOkeW",
        "outputId": "629f16ee-2aa7-4b7f-8393-09afdefef5d5"
      },
      "source": [
        "!pip install tmdbv3api"
      ],
      "execution_count": 12,
      "outputs": [
        {
          "output_type": "stream",
          "text": [
            "Collecting tmdbv3api\n",
            "  Downloading https://files.pythonhosted.org/packages/fa/cb/72ca70a05b7364c2b41e6cf1f615729b0c99109a3be0e61e22d42859d48f/tmdbv3api-1.7.1-py2.py3-none-any.whl\n",
            "Requirement already satisfied: requests in /usr/local/lib/python3.6/dist-packages (from tmdbv3api) (2.23.0)\n",
            "Requirement already satisfied: certifi>=2017.4.17 in /usr/local/lib/python3.6/dist-packages (from requests->tmdbv3api) (2020.11.8)\n",
            "Requirement already satisfied: idna<3,>=2.5 in /usr/local/lib/python3.6/dist-packages (from requests->tmdbv3api) (2.10)\n",
            "Requirement already satisfied: urllib3!=1.25.0,!=1.25.1,<1.26,>=1.21.1 in /usr/local/lib/python3.6/dist-packages (from requests->tmdbv3api) (1.24.3)\n",
            "Requirement already satisfied: chardet<4,>=3.0.2 in /usr/local/lib/python3.6/dist-packages (from requests->tmdbv3api) (3.0.4)\n",
            "Installing collected packages: tmdbv3api\n",
            "Successfully installed tmdbv3api-1.7.1\n"
          ],
          "name": "stdout"
        }
      ]
    },
    {
      "cell_type": "code",
      "metadata": {
        "id": "61XvcEzPOZWV"
      },
      "source": [
        "from tmdbv3api import TMDb\n",
        "import json\n",
        "import requests\n",
        "tmdb = TMDb()\n",
        "tmdb.api_key = ''"
      ],
      "execution_count": 13,
      "outputs": []
    },
    {
      "cell_type": "code",
      "metadata": {
        "id": "_4q66M86OfgF"
      },
      "source": [
        "from tmdbv3api import Movie\n",
        "tmdb_movie = Movie() \n",
        "def get_genre(x):\n",
        "    genres = []\n",
        "    result = tmdb_movie.search(x)\n",
        "    if not result:\n",
        "      return np.NaN\n",
        "    else:\n",
        "      movie_id = result[0].id\n",
        "      response = requests.get('https://api.themoviedb.org/3/movie/{}?api_key={}'.format(movie_id,tmdb.api_key))\n",
        "      data_json = response.json()\n",
        "      if data_json['genres']:\n",
        "          genre_str = \" \" \n",
        "          for i in range(0,len(data_json['genres'])):\n",
        "              genres.append(data_json['genres'][i]['name'])\n",
        "          return genre_str.join(genres)\n",
        "      else:\n",
        "          return np.NaN"
      ],
      "execution_count": 14,
      "outputs": []
    },
    {
      "cell_type": "code",
      "metadata": {
        "scrolled": true,
        "colab": {
          "base_uri": "https://localhost:8080/"
        },
        "id": "uSjX4AsmOZWV",
        "outputId": "da21d28b-1f7a-4171-8b87-2eabcc897a8d"
      },
      "source": [
        "df_2020['genres'] = df_2020['Title'].map(lambda x: get_genre(str(x)))"
      ],
      "execution_count": 15,
      "outputs": [
        {
          "output_type": "stream",
          "text": [
            "/usr/local/lib/python3.6/dist-packages/ipykernel_launcher.py:1: SettingWithCopyWarning: \n",
            "A value is trying to be set on a copy of a slice from a DataFrame.\n",
            "Try using .loc[row_indexer,col_indexer] = value instead\n",
            "\n",
            "See the caveats in the documentation: https://pandas.pydata.org/pandas-docs/stable/user_guide/indexing.html#returning-a-view-versus-a-copy\n",
            "  \"\"\"Entry point for launching an IPython kernel.\n"
          ],
          "name": "stderr"
        }
      ]
    },
    {
      "cell_type": "code",
      "metadata": {
        "colab": {
          "base_uri": "https://localhost:8080/",
          "height": 406
        },
        "id": "aiwOqJZMOZWV",
        "outputId": "032dfad5-985e-4d24-9fed-ed92c9edfba3"
      },
      "source": [
        "df_2020"
      ],
      "execution_count": 16,
      "outputs": [
        {
          "output_type": "execute_result",
          "data": {
            "text/html": [
              "<div>\n",
              "<style scoped>\n",
              "    .dataframe tbody tr th:only-of-type {\n",
              "        vertical-align: middle;\n",
              "    }\n",
              "\n",
              "    .dataframe tbody tr th {\n",
              "        vertical-align: top;\n",
              "    }\n",
              "\n",
              "    .dataframe thead th {\n",
              "        text-align: right;\n",
              "    }\n",
              "</style>\n",
              "<table border=\"1\" class=\"dataframe\">\n",
              "  <thead>\n",
              "    <tr style=\"text-align: right;\">\n",
              "      <th></th>\n",
              "      <th>Title</th>\n",
              "      <th>Cast and crew</th>\n",
              "      <th>genres</th>\n",
              "    </tr>\n",
              "  </thead>\n",
              "  <tbody>\n",
              "    <tr>\n",
              "      <th>0</th>\n",
              "      <td>The Grudge</td>\n",
              "      <td>Nicolas Pesce (director/screenplay); Andrea Ri...</td>\n",
              "      <td>Horror Mystery Thriller</td>\n",
              "    </tr>\n",
              "    <tr>\n",
              "      <th>1</th>\n",
              "      <td>Underwater</td>\n",
              "      <td>William Eubank (director); Brian Duffield, Ada...</td>\n",
              "      <td>Action Horror Science Fiction Thriller</td>\n",
              "    </tr>\n",
              "    <tr>\n",
              "      <th>2</th>\n",
              "      <td>Three Christs</td>\n",
              "      <td>Jon Avnet (director/screenplay); Eric Nazarian...</td>\n",
              "      <td>Drama</td>\n",
              "    </tr>\n",
              "    <tr>\n",
              "      <th>3</th>\n",
              "      <td>Like a Boss</td>\n",
              "      <td>Miguel Arteta (director); Sam Pitman, Adam Col...</td>\n",
              "      <td>Comedy</td>\n",
              "    </tr>\n",
              "    <tr>\n",
              "      <th>4</th>\n",
              "      <td>Inherit the Viper</td>\n",
              "      <td>Anthony Jerjen (director); Andrew Crabtree (sc...</td>\n",
              "      <td>Drama Thriller Crime</td>\n",
              "    </tr>\n",
              "    <tr>\n",
              "      <th>...</th>\n",
              "      <td>...</td>\n",
              "      <td>...</td>\n",
              "      <td>...</td>\n",
              "    </tr>\n",
              "    <tr>\n",
              "      <th>250</th>\n",
              "      <td>News of the World</td>\n",
              "      <td>Paul Greengrass (director/screenplay); Luke Da...</td>\n",
              "      <td>Drama Western</td>\n",
              "    </tr>\n",
              "    <tr>\n",
              "      <th>251</th>\n",
              "      <td>One Night in Miami</td>\n",
              "      <td>Regina King (director); Kemp Powers (screenpla...</td>\n",
              "      <td>Drama</td>\n",
              "    </tr>\n",
              "    <tr>\n",
              "      <th>252</th>\n",
              "      <td>Promising Young Woman</td>\n",
              "      <td>Emerald Fennell (director/screenplay); Carey M...</td>\n",
              "      <td>Thriller Crime Drama</td>\n",
              "    </tr>\n",
              "    <tr>\n",
              "      <th>253</th>\n",
              "      <td>Sylvie's Love</td>\n",
              "      <td>Eugene Ashe (director/screenplay); Tessa Thomp...</td>\n",
              "      <td>Drama</td>\n",
              "    </tr>\n",
              "    <tr>\n",
              "      <th>254</th>\n",
              "      <td>Pieces of a Woman</td>\n",
              "      <td>Kornél Mundruczó (director); Kata Wéber (scree...</td>\n",
              "      <td>Drama</td>\n",
              "    </tr>\n",
              "  </tbody>\n",
              "</table>\n",
              "<p>255 rows × 3 columns</p>\n",
              "</div>"
            ],
            "text/plain": [
              "                     Title  ...                                  genres\n",
              "0               The Grudge  ...                 Horror Mystery Thriller\n",
              "1               Underwater  ...  Action Horror Science Fiction Thriller\n",
              "2            Three Christs  ...                                   Drama\n",
              "3              Like a Boss  ...                                  Comedy\n",
              "4        Inherit the Viper  ...                    Drama Thriller Crime\n",
              "..                     ...  ...                                     ...\n",
              "250      News of the World  ...                           Drama Western\n",
              "251     One Night in Miami  ...                                   Drama\n",
              "252  Promising Young Woman  ...                    Thriller Crime Drama\n",
              "253          Sylvie's Love  ...                                   Drama\n",
              "254      Pieces of a Woman  ...                                   Drama\n",
              "\n",
              "[255 rows x 3 columns]"
            ]
          },
          "metadata": {
            "tags": []
          },
          "execution_count": 16
        }
      ]
    },
    {
      "cell_type": "code",
      "metadata": {
        "id": "GcqUuFyiOZWW"
      },
      "source": [
        "def get_director(x):\n",
        "    if \" (director)\" in x:\n",
        "        return x.split(\" (director)\")[0]\n",
        "    elif \" (directors)\" in x:\n",
        "        return x.split(\" (directors)\")[0]\n",
        "    else:\n",
        "        return x.split(\" (director/screenplay)\")[0]"
      ],
      "execution_count": 17,
      "outputs": []
    },
    {
      "cell_type": "code",
      "metadata": {
        "colab": {
          "base_uri": "https://localhost:8080/"
        },
        "id": "A7RzXkBQOZWW",
        "outputId": "161deb48-6037-468b-c4b4-44cd51d0efc1"
      },
      "source": [
        "df_2020['director_name'] = df_2020['Cast and crew'].map(lambda x: get_director(str(x)))"
      ],
      "execution_count": 18,
      "outputs": [
        {
          "output_type": "stream",
          "text": [
            "/usr/local/lib/python3.6/dist-packages/ipykernel_launcher.py:1: SettingWithCopyWarning: \n",
            "A value is trying to be set on a copy of a slice from a DataFrame.\n",
            "Try using .loc[row_indexer,col_indexer] = value instead\n",
            "\n",
            "See the caveats in the documentation: https://pandas.pydata.org/pandas-docs/stable/user_guide/indexing.html#returning-a-view-versus-a-copy\n",
            "  \"\"\"Entry point for launching an IPython kernel.\n"
          ],
          "name": "stderr"
        }
      ]
    },
    {
      "cell_type": "code",
      "metadata": {
        "id": "wwBWFgBSOZWW"
      },
      "source": [
        "def get_actor1(x):\n",
        "    return ((x.split(\"screenplay); \")[-1]).split(\", \")[0])"
      ],
      "execution_count": 19,
      "outputs": []
    },
    {
      "cell_type": "code",
      "metadata": {
        "colab": {
          "base_uri": "https://localhost:8080/"
        },
        "id": "gxr9Y4IJOZWW",
        "outputId": "68904c09-7d50-424d-e908-804489e84d05"
      },
      "source": [
        "df_2020['actor_1_name'] = df_2020['Cast and crew'].map(lambda x: get_actor1(str(x)))"
      ],
      "execution_count": 20,
      "outputs": [
        {
          "output_type": "stream",
          "text": [
            "/usr/local/lib/python3.6/dist-packages/ipykernel_launcher.py:1: SettingWithCopyWarning: \n",
            "A value is trying to be set on a copy of a slice from a DataFrame.\n",
            "Try using .loc[row_indexer,col_indexer] = value instead\n",
            "\n",
            "See the caveats in the documentation: https://pandas.pydata.org/pandas-docs/stable/user_guide/indexing.html#returning-a-view-versus-a-copy\n",
            "  \"\"\"Entry point for launching an IPython kernel.\n"
          ],
          "name": "stderr"
        }
      ]
    },
    {
      "cell_type": "code",
      "metadata": {
        "id": "Qc7I49gVOZWX"
      },
      "source": [
        "def get_actor2(x):\n",
        "    if len((x.split(\"screenplay); \")[-1]).split(\", \")) < 2:\n",
        "        return np.NaN\n",
        "    else:\n",
        "        return ((x.split(\"screenplay); \")[-1]).split(\", \")[1])"
      ],
      "execution_count": 21,
      "outputs": []
    },
    {
      "cell_type": "code",
      "metadata": {
        "id": "ipspWbjaOZWX"
      },
      "source": [
        "df_2020['actor_2_name'] = df_2020['Cast and crew'].map(lambda x: get_actor2(str(x)))"
      ],
      "execution_count": 22,
      "outputs": []
    },
    {
      "cell_type": "code",
      "metadata": {
        "id": "pQmab5aiOZWX"
      },
      "source": [
        "def get_actor3(x):\n",
        "    if len((x.split(\"screenplay); \")[-1]).split(\", \")) < 3:\n",
        "        return np.NaN\n",
        "    else:\n",
        "        return ((x.split(\"screenplay); \")[-1]).split(\", \")[2])"
      ],
      "execution_count": 23,
      "outputs": []
    },
    {
      "cell_type": "code",
      "metadata": {
        "id": "vWSs45LWOZWX"
      },
      "source": [
        "df_2020['actor_3_name'] = df_2020['Cast and crew'].map(lambda x: get_actor3(str(x)))"
      ],
      "execution_count": 24,
      "outputs": []
    },
    {
      "cell_type": "code",
      "metadata": {
        "colab": {
          "base_uri": "https://localhost:8080/",
          "height": 406
        },
        "id": "2xDIRn7DOZWX",
        "outputId": "ad8d83b3-a608-43db-eeff-53a434ab3d4f"
      },
      "source": [
        "df_2020"
      ],
      "execution_count": 25,
      "outputs": [
        {
          "output_type": "execute_result",
          "data": {
            "text/html": [
              "<div>\n",
              "<style scoped>\n",
              "    .dataframe tbody tr th:only-of-type {\n",
              "        vertical-align: middle;\n",
              "    }\n",
              "\n",
              "    .dataframe tbody tr th {\n",
              "        vertical-align: top;\n",
              "    }\n",
              "\n",
              "    .dataframe thead th {\n",
              "        text-align: right;\n",
              "    }\n",
              "</style>\n",
              "<table border=\"1\" class=\"dataframe\">\n",
              "  <thead>\n",
              "    <tr style=\"text-align: right;\">\n",
              "      <th></th>\n",
              "      <th>Title</th>\n",
              "      <th>Cast and crew</th>\n",
              "      <th>genres</th>\n",
              "      <th>director_name</th>\n",
              "      <th>actor_1_name</th>\n",
              "      <th>actor_2_name</th>\n",
              "      <th>actor_3_name</th>\n",
              "    </tr>\n",
              "  </thead>\n",
              "  <tbody>\n",
              "    <tr>\n",
              "      <th>0</th>\n",
              "      <td>The Grudge</td>\n",
              "      <td>Nicolas Pesce (director/screenplay); Andrea Ri...</td>\n",
              "      <td>Horror Mystery Thriller</td>\n",
              "      <td>Nicolas Pesce</td>\n",
              "      <td>Andrea Riseborough</td>\n",
              "      <td>Demián Bichir</td>\n",
              "      <td>John Cho</td>\n",
              "    </tr>\n",
              "    <tr>\n",
              "      <th>1</th>\n",
              "      <td>Underwater</td>\n",
              "      <td>William Eubank (director); Brian Duffield, Ada...</td>\n",
              "      <td>Action Horror Science Fiction Thriller</td>\n",
              "      <td>William Eubank</td>\n",
              "      <td>Kristen Stewart</td>\n",
              "      <td>Vincent Cassel</td>\n",
              "      <td>Jessica Henwick</td>\n",
              "    </tr>\n",
              "    <tr>\n",
              "      <th>2</th>\n",
              "      <td>Three Christs</td>\n",
              "      <td>Jon Avnet (director/screenplay); Eric Nazarian...</td>\n",
              "      <td>Drama</td>\n",
              "      <td>Jon Avnet</td>\n",
              "      <td>Richard Gere</td>\n",
              "      <td>Peter Dinklage</td>\n",
              "      <td>Walton Goggins</td>\n",
              "    </tr>\n",
              "    <tr>\n",
              "      <th>3</th>\n",
              "      <td>Like a Boss</td>\n",
              "      <td>Miguel Arteta (director); Sam Pitman, Adam Col...</td>\n",
              "      <td>Comedy</td>\n",
              "      <td>Miguel Arteta</td>\n",
              "      <td>Tiffany Haddish</td>\n",
              "      <td>Rose Byrne</td>\n",
              "      <td>Salma Hayek</td>\n",
              "    </tr>\n",
              "    <tr>\n",
              "      <th>4</th>\n",
              "      <td>Inherit the Viper</td>\n",
              "      <td>Anthony Jerjen (director); Andrew Crabtree (sc...</td>\n",
              "      <td>Drama Thriller Crime</td>\n",
              "      <td>Anthony Jerjen</td>\n",
              "      <td>Josh Hartnett</td>\n",
              "      <td>Margarita Levieva</td>\n",
              "      <td>Chandler Riggs</td>\n",
              "    </tr>\n",
              "    <tr>\n",
              "      <th>...</th>\n",
              "      <td>...</td>\n",
              "      <td>...</td>\n",
              "      <td>...</td>\n",
              "      <td>...</td>\n",
              "      <td>...</td>\n",
              "      <td>...</td>\n",
              "      <td>...</td>\n",
              "    </tr>\n",
              "    <tr>\n",
              "      <th>250</th>\n",
              "      <td>News of the World</td>\n",
              "      <td>Paul Greengrass (director/screenplay); Luke Da...</td>\n",
              "      <td>Drama Western</td>\n",
              "      <td>Paul Greengrass</td>\n",
              "      <td>Tom Hanks</td>\n",
              "      <td>Helena Zengel</td>\n",
              "      <td>NaN</td>\n",
              "    </tr>\n",
              "    <tr>\n",
              "      <th>251</th>\n",
              "      <td>One Night in Miami</td>\n",
              "      <td>Regina King (director); Kemp Powers (screenpla...</td>\n",
              "      <td>Drama</td>\n",
              "      <td>Regina King</td>\n",
              "      <td>Kingsley Ben-Adir</td>\n",
              "      <td>Eli Goree</td>\n",
              "      <td>Aldis Hodge</td>\n",
              "    </tr>\n",
              "    <tr>\n",
              "      <th>252</th>\n",
              "      <td>Promising Young Woman</td>\n",
              "      <td>Emerald Fennell (director/screenplay); Carey M...</td>\n",
              "      <td>Thriller Crime Drama</td>\n",
              "      <td>Emerald Fennell</td>\n",
              "      <td>Carey Mulligan</td>\n",
              "      <td>Bo Burnham</td>\n",
              "      <td>Alison Brie</td>\n",
              "    </tr>\n",
              "    <tr>\n",
              "      <th>253</th>\n",
              "      <td>Sylvie's Love</td>\n",
              "      <td>Eugene Ashe (director/screenplay); Tessa Thomp...</td>\n",
              "      <td>Drama</td>\n",
              "      <td>Eugene Ashe</td>\n",
              "      <td>Tessa Thompson</td>\n",
              "      <td>Nnamdi Asomugha</td>\n",
              "      <td>Ryan Michelle Bathe</td>\n",
              "    </tr>\n",
              "    <tr>\n",
              "      <th>254</th>\n",
              "      <td>Pieces of a Woman</td>\n",
              "      <td>Kornél Mundruczó (director); Kata Wéber (scree...</td>\n",
              "      <td>Drama</td>\n",
              "      <td>Kornél Mundruczó</td>\n",
              "      <td>Vanessa Kirby</td>\n",
              "      <td>Shia LaBeouf</td>\n",
              "      <td>Molly Parker</td>\n",
              "    </tr>\n",
              "  </tbody>\n",
              "</table>\n",
              "<p>255 rows × 7 columns</p>\n",
              "</div>"
            ],
            "text/plain": [
              "                     Title  ...         actor_3_name\n",
              "0               The Grudge  ...             John Cho\n",
              "1               Underwater  ...      Jessica Henwick\n",
              "2            Three Christs  ...       Walton Goggins\n",
              "3              Like a Boss  ...          Salma Hayek\n",
              "4        Inherit the Viper  ...       Chandler Riggs\n",
              "..                     ...  ...                  ...\n",
              "250      News of the World  ...                  NaN\n",
              "251     One Night in Miami  ...          Aldis Hodge\n",
              "252  Promising Young Woman  ...          Alison Brie\n",
              "253          Sylvie's Love  ...  Ryan Michelle Bathe\n",
              "254      Pieces of a Woman  ...         Molly Parker\n",
              "\n",
              "[255 rows x 7 columns]"
            ]
          },
          "metadata": {
            "tags": []
          },
          "execution_count": 25
        }
      ]
    },
    {
      "cell_type": "code",
      "metadata": {
        "id": "rBUUnUtfOZWX"
      },
      "source": [
        "df_2020 = df_2020.rename(columns={'Title':'movie_title'})"
      ],
      "execution_count": 26,
      "outputs": []
    },
    {
      "cell_type": "code",
      "metadata": {
        "id": "_WCWVlAqOZWX"
      },
      "source": [
        "new_df20 = df_2020.loc[:,['director_name','actor_1_name','actor_2_name','actor_3_name','genres','movie_title']]"
      ],
      "execution_count": 27,
      "outputs": []
    },
    {
      "cell_type": "code",
      "metadata": {
        "colab": {
          "base_uri": "https://localhost:8080/",
          "height": 406
        },
        "id": "i7KBDmu_OZWX",
        "outputId": "6b4de81e-b1ac-4fb0-d349-52ae7c210346"
      },
      "source": [
        "new_df20"
      ],
      "execution_count": 28,
      "outputs": [
        {
          "output_type": "execute_result",
          "data": {
            "text/html": [
              "<div>\n",
              "<style scoped>\n",
              "    .dataframe tbody tr th:only-of-type {\n",
              "        vertical-align: middle;\n",
              "    }\n",
              "\n",
              "    .dataframe tbody tr th {\n",
              "        vertical-align: top;\n",
              "    }\n",
              "\n",
              "    .dataframe thead th {\n",
              "        text-align: right;\n",
              "    }\n",
              "</style>\n",
              "<table border=\"1\" class=\"dataframe\">\n",
              "  <thead>\n",
              "    <tr style=\"text-align: right;\">\n",
              "      <th></th>\n",
              "      <th>director_name</th>\n",
              "      <th>actor_1_name</th>\n",
              "      <th>actor_2_name</th>\n",
              "      <th>actor_3_name</th>\n",
              "      <th>genres</th>\n",
              "      <th>movie_title</th>\n",
              "    </tr>\n",
              "  </thead>\n",
              "  <tbody>\n",
              "    <tr>\n",
              "      <th>0</th>\n",
              "      <td>Nicolas Pesce</td>\n",
              "      <td>Andrea Riseborough</td>\n",
              "      <td>Demián Bichir</td>\n",
              "      <td>John Cho</td>\n",
              "      <td>Horror Mystery Thriller</td>\n",
              "      <td>The Grudge</td>\n",
              "    </tr>\n",
              "    <tr>\n",
              "      <th>1</th>\n",
              "      <td>William Eubank</td>\n",
              "      <td>Kristen Stewart</td>\n",
              "      <td>Vincent Cassel</td>\n",
              "      <td>Jessica Henwick</td>\n",
              "      <td>Action Horror Science Fiction Thriller</td>\n",
              "      <td>Underwater</td>\n",
              "    </tr>\n",
              "    <tr>\n",
              "      <th>2</th>\n",
              "      <td>Jon Avnet</td>\n",
              "      <td>Richard Gere</td>\n",
              "      <td>Peter Dinklage</td>\n",
              "      <td>Walton Goggins</td>\n",
              "      <td>Drama</td>\n",
              "      <td>Three Christs</td>\n",
              "    </tr>\n",
              "    <tr>\n",
              "      <th>3</th>\n",
              "      <td>Miguel Arteta</td>\n",
              "      <td>Tiffany Haddish</td>\n",
              "      <td>Rose Byrne</td>\n",
              "      <td>Salma Hayek</td>\n",
              "      <td>Comedy</td>\n",
              "      <td>Like a Boss</td>\n",
              "    </tr>\n",
              "    <tr>\n",
              "      <th>4</th>\n",
              "      <td>Anthony Jerjen</td>\n",
              "      <td>Josh Hartnett</td>\n",
              "      <td>Margarita Levieva</td>\n",
              "      <td>Chandler Riggs</td>\n",
              "      <td>Drama Thriller Crime</td>\n",
              "      <td>Inherit the Viper</td>\n",
              "    </tr>\n",
              "    <tr>\n",
              "      <th>...</th>\n",
              "      <td>...</td>\n",
              "      <td>...</td>\n",
              "      <td>...</td>\n",
              "      <td>...</td>\n",
              "      <td>...</td>\n",
              "      <td>...</td>\n",
              "    </tr>\n",
              "    <tr>\n",
              "      <th>250</th>\n",
              "      <td>Paul Greengrass</td>\n",
              "      <td>Tom Hanks</td>\n",
              "      <td>Helena Zengel</td>\n",
              "      <td>NaN</td>\n",
              "      <td>Drama Western</td>\n",
              "      <td>News of the World</td>\n",
              "    </tr>\n",
              "    <tr>\n",
              "      <th>251</th>\n",
              "      <td>Regina King</td>\n",
              "      <td>Kingsley Ben-Adir</td>\n",
              "      <td>Eli Goree</td>\n",
              "      <td>Aldis Hodge</td>\n",
              "      <td>Drama</td>\n",
              "      <td>One Night in Miami</td>\n",
              "    </tr>\n",
              "    <tr>\n",
              "      <th>252</th>\n",
              "      <td>Emerald Fennell</td>\n",
              "      <td>Carey Mulligan</td>\n",
              "      <td>Bo Burnham</td>\n",
              "      <td>Alison Brie</td>\n",
              "      <td>Thriller Crime Drama</td>\n",
              "      <td>Promising Young Woman</td>\n",
              "    </tr>\n",
              "    <tr>\n",
              "      <th>253</th>\n",
              "      <td>Eugene Ashe</td>\n",
              "      <td>Tessa Thompson</td>\n",
              "      <td>Nnamdi Asomugha</td>\n",
              "      <td>Ryan Michelle Bathe</td>\n",
              "      <td>Drama</td>\n",
              "      <td>Sylvie's Love</td>\n",
              "    </tr>\n",
              "    <tr>\n",
              "      <th>254</th>\n",
              "      <td>Kornél Mundruczó</td>\n",
              "      <td>Vanessa Kirby</td>\n",
              "      <td>Shia LaBeouf</td>\n",
              "      <td>Molly Parker</td>\n",
              "      <td>Drama</td>\n",
              "      <td>Pieces of a Woman</td>\n",
              "    </tr>\n",
              "  </tbody>\n",
              "</table>\n",
              "<p>255 rows × 6 columns</p>\n",
              "</div>"
            ],
            "text/plain": [
              "        director_name  ...            movie_title\n",
              "0       Nicolas Pesce  ...             The Grudge\n",
              "1      William Eubank  ...             Underwater\n",
              "2           Jon Avnet  ...          Three Christs\n",
              "3       Miguel Arteta  ...            Like a Boss\n",
              "4      Anthony Jerjen  ...      Inherit the Viper\n",
              "..                ...  ...                    ...\n",
              "250   Paul Greengrass  ...      News of the World\n",
              "251       Regina King  ...     One Night in Miami\n",
              "252   Emerald Fennell  ...  Promising Young Woman\n",
              "253       Eugene Ashe  ...          Sylvie's Love\n",
              "254  Kornél Mundruczó  ...      Pieces of a Woman\n",
              "\n",
              "[255 rows x 6 columns]"
            ]
          },
          "metadata": {
            "tags": []
          },
          "execution_count": 28
        }
      ]
    },
    {
      "cell_type": "code",
      "metadata": {
        "id": "0s7XMhqzOZWY"
      },
      "source": [
        "new_df20['comb'] = new_df20['actor_1_name'] + ' ' + new_df20['actor_2_name'] + ' '+ new_df20['actor_3_name'] + ' '+ new_df20['director_name'] +' ' + new_df20['genres']"
      ],
      "execution_count": 29,
      "outputs": []
    },
    {
      "cell_type": "code",
      "metadata": {
        "colab": {
          "base_uri": "https://localhost:8080/"
        },
        "id": "ta_KcPQJOZWY",
        "outputId": "ac6aa7b7-c156-49b2-9e95-3a76f971f5b1"
      },
      "source": [
        "new_df20.isna().sum()"
      ],
      "execution_count": 30,
      "outputs": [
        {
          "output_type": "execute_result",
          "data": {
            "text/plain": [
              "director_name     0\n",
              "actor_1_name      0\n",
              "actor_2_name      2\n",
              "actor_3_name     27\n",
              "genres            2\n",
              "movie_title       0\n",
              "comb             28\n",
              "dtype: int64"
            ]
          },
          "metadata": {
            "tags": []
          },
          "execution_count": 30
        }
      ]
    },
    {
      "cell_type": "code",
      "metadata": {
        "id": "DkKroG5GOZWY"
      },
      "source": [
        "new_df20 = new_df20.dropna(how='any')"
      ],
      "execution_count": 31,
      "outputs": []
    },
    {
      "cell_type": "code",
      "metadata": {
        "colab": {
          "base_uri": "https://localhost:8080/"
        },
        "id": "YOIv1wvhOZWY",
        "outputId": "c3ad579e-16e2-4d8c-d4a0-71891d71b986"
      },
      "source": [
        "new_df20.isna().sum()"
      ],
      "execution_count": 32,
      "outputs": [
        {
          "output_type": "execute_result",
          "data": {
            "text/plain": [
              "director_name    0\n",
              "actor_1_name     0\n",
              "actor_2_name     0\n",
              "actor_3_name     0\n",
              "genres           0\n",
              "movie_title      0\n",
              "comb             0\n",
              "dtype: int64"
            ]
          },
          "metadata": {
            "tags": []
          },
          "execution_count": 32
        }
      ]
    },
    {
      "cell_type": "code",
      "metadata": {
        "colab": {
          "base_uri": "https://localhost:8080/"
        },
        "id": "IB3YmNWROZWY",
        "outputId": "8abccee1-4b9e-436b-de18-eb97298d73a9"
      },
      "source": [
        "new_df20['movie_title'] = new_df20['movie_title'].str.lower()"
      ],
      "execution_count": 33,
      "outputs": [
        {
          "output_type": "stream",
          "text": [
            "/usr/local/lib/python3.6/dist-packages/ipykernel_launcher.py:1: SettingWithCopyWarning: \n",
            "A value is trying to be set on a copy of a slice from a DataFrame.\n",
            "Try using .loc[row_indexer,col_indexer] = value instead\n",
            "\n",
            "See the caveats in the documentation: https://pandas.pydata.org/pandas-docs/stable/user_guide/indexing.html#returning-a-view-versus-a-copy\n",
            "  \"\"\"Entry point for launching an IPython kernel.\n"
          ],
          "name": "stderr"
        }
      ]
    },
    {
      "cell_type": "code",
      "metadata": {
        "colab": {
          "base_uri": "https://localhost:8080/",
          "height": 406
        },
        "id": "3e3NnY70OZWZ",
        "outputId": "cf4351f9-93f7-40bc-cc24-ab9e45bd8358"
      },
      "source": [
        "new_df20"
      ],
      "execution_count": 34,
      "outputs": [
        {
          "output_type": "execute_result",
          "data": {
            "text/html": [
              "<div>\n",
              "<style scoped>\n",
              "    .dataframe tbody tr th:only-of-type {\n",
              "        vertical-align: middle;\n",
              "    }\n",
              "\n",
              "    .dataframe tbody tr th {\n",
              "        vertical-align: top;\n",
              "    }\n",
              "\n",
              "    .dataframe thead th {\n",
              "        text-align: right;\n",
              "    }\n",
              "</style>\n",
              "<table border=\"1\" class=\"dataframe\">\n",
              "  <thead>\n",
              "    <tr style=\"text-align: right;\">\n",
              "      <th></th>\n",
              "      <th>director_name</th>\n",
              "      <th>actor_1_name</th>\n",
              "      <th>actor_2_name</th>\n",
              "      <th>actor_3_name</th>\n",
              "      <th>genres</th>\n",
              "      <th>movie_title</th>\n",
              "      <th>comb</th>\n",
              "    </tr>\n",
              "  </thead>\n",
              "  <tbody>\n",
              "    <tr>\n",
              "      <th>0</th>\n",
              "      <td>Nicolas Pesce</td>\n",
              "      <td>Andrea Riseborough</td>\n",
              "      <td>Demián Bichir</td>\n",
              "      <td>John Cho</td>\n",
              "      <td>Horror Mystery Thriller</td>\n",
              "      <td>the grudge</td>\n",
              "      <td>Andrea Riseborough Demián Bichir John Cho Nico...</td>\n",
              "    </tr>\n",
              "    <tr>\n",
              "      <th>1</th>\n",
              "      <td>William Eubank</td>\n",
              "      <td>Kristen Stewart</td>\n",
              "      <td>Vincent Cassel</td>\n",
              "      <td>Jessica Henwick</td>\n",
              "      <td>Action Horror Science Fiction Thriller</td>\n",
              "      <td>underwater</td>\n",
              "      <td>Kristen Stewart Vincent Cassel Jessica Henwick...</td>\n",
              "    </tr>\n",
              "    <tr>\n",
              "      <th>2</th>\n",
              "      <td>Jon Avnet</td>\n",
              "      <td>Richard Gere</td>\n",
              "      <td>Peter Dinklage</td>\n",
              "      <td>Walton Goggins</td>\n",
              "      <td>Drama</td>\n",
              "      <td>three christs</td>\n",
              "      <td>Richard Gere Peter Dinklage Walton Goggins Jon...</td>\n",
              "    </tr>\n",
              "    <tr>\n",
              "      <th>3</th>\n",
              "      <td>Miguel Arteta</td>\n",
              "      <td>Tiffany Haddish</td>\n",
              "      <td>Rose Byrne</td>\n",
              "      <td>Salma Hayek</td>\n",
              "      <td>Comedy</td>\n",
              "      <td>like a boss</td>\n",
              "      <td>Tiffany Haddish Rose Byrne Salma Hayek Miguel ...</td>\n",
              "    </tr>\n",
              "    <tr>\n",
              "      <th>4</th>\n",
              "      <td>Anthony Jerjen</td>\n",
              "      <td>Josh Hartnett</td>\n",
              "      <td>Margarita Levieva</td>\n",
              "      <td>Chandler Riggs</td>\n",
              "      <td>Drama Thriller Crime</td>\n",
              "      <td>inherit the viper</td>\n",
              "      <td>Josh Hartnett Margarita Levieva Chandler Riggs...</td>\n",
              "    </tr>\n",
              "    <tr>\n",
              "      <th>...</th>\n",
              "      <td>...</td>\n",
              "      <td>...</td>\n",
              "      <td>...</td>\n",
              "      <td>...</td>\n",
              "      <td>...</td>\n",
              "      <td>...</td>\n",
              "      <td>...</td>\n",
              "    </tr>\n",
              "    <tr>\n",
              "      <th>249</th>\n",
              "      <td>Paul W. S. Anderson</td>\n",
              "      <td>Milla Jovovich</td>\n",
              "      <td>Tony Jaa</td>\n",
              "      <td>Tip \"T.I.\" Harris</td>\n",
              "      <td>Fantasy Action Adventure</td>\n",
              "      <td>monster hunter</td>\n",
              "      <td>Milla Jovovich Tony Jaa Tip \"T.I.\" Harris Paul...</td>\n",
              "    </tr>\n",
              "    <tr>\n",
              "      <th>251</th>\n",
              "      <td>Regina King</td>\n",
              "      <td>Kingsley Ben-Adir</td>\n",
              "      <td>Eli Goree</td>\n",
              "      <td>Aldis Hodge</td>\n",
              "      <td>Drama</td>\n",
              "      <td>one night in miami</td>\n",
              "      <td>Kingsley Ben-Adir Eli Goree Aldis Hodge Regina...</td>\n",
              "    </tr>\n",
              "    <tr>\n",
              "      <th>252</th>\n",
              "      <td>Emerald Fennell</td>\n",
              "      <td>Carey Mulligan</td>\n",
              "      <td>Bo Burnham</td>\n",
              "      <td>Alison Brie</td>\n",
              "      <td>Thriller Crime Drama</td>\n",
              "      <td>promising young woman</td>\n",
              "      <td>Carey Mulligan Bo Burnham Alison Brie Emerald ...</td>\n",
              "    </tr>\n",
              "    <tr>\n",
              "      <th>253</th>\n",
              "      <td>Eugene Ashe</td>\n",
              "      <td>Tessa Thompson</td>\n",
              "      <td>Nnamdi Asomugha</td>\n",
              "      <td>Ryan Michelle Bathe</td>\n",
              "      <td>Drama</td>\n",
              "      <td>sylvie's love</td>\n",
              "      <td>Tessa Thompson Nnamdi Asomugha Ryan Michelle B...</td>\n",
              "    </tr>\n",
              "    <tr>\n",
              "      <th>254</th>\n",
              "      <td>Kornél Mundruczó</td>\n",
              "      <td>Vanessa Kirby</td>\n",
              "      <td>Shia LaBeouf</td>\n",
              "      <td>Molly Parker</td>\n",
              "      <td>Drama</td>\n",
              "      <td>pieces of a woman</td>\n",
              "      <td>Vanessa Kirby Shia LaBeouf Molly Parker Kornél...</td>\n",
              "    </tr>\n",
              "  </tbody>\n",
              "</table>\n",
              "<p>227 rows × 7 columns</p>\n",
              "</div>"
            ],
            "text/plain": [
              "           director_name  ...                                               comb\n",
              "0          Nicolas Pesce  ...  Andrea Riseborough Demián Bichir John Cho Nico...\n",
              "1         William Eubank  ...  Kristen Stewart Vincent Cassel Jessica Henwick...\n",
              "2              Jon Avnet  ...  Richard Gere Peter Dinklage Walton Goggins Jon...\n",
              "3          Miguel Arteta  ...  Tiffany Haddish Rose Byrne Salma Hayek Miguel ...\n",
              "4         Anthony Jerjen  ...  Josh Hartnett Margarita Levieva Chandler Riggs...\n",
              "..                   ...  ...                                                ...\n",
              "249  Paul W. S. Anderson  ...  Milla Jovovich Tony Jaa Tip \"T.I.\" Harris Paul...\n",
              "251          Regina King  ...  Kingsley Ben-Adir Eli Goree Aldis Hodge Regina...\n",
              "252      Emerald Fennell  ...  Carey Mulligan Bo Burnham Alison Brie Emerald ...\n",
              "253          Eugene Ashe  ...  Tessa Thompson Nnamdi Asomugha Ryan Michelle B...\n",
              "254     Kornél Mundruczó  ...  Vanessa Kirby Shia LaBeouf Molly Parker Kornél...\n",
              "\n",
              "[227 rows x 7 columns]"
            ]
          },
          "metadata": {
            "tags": []
          },
          "execution_count": 34
        }
      ]
    },
    {
      "cell_type": "code",
      "metadata": {
        "id": "BCf9fH_4OZWZ"
      },
      "source": [
        "old_df = pd.read_csv('final_data.csv')"
      ],
      "execution_count": null,
      "outputs": []
    },
    {
      "cell_type": "code",
      "metadata": {
        "id": "ce2e426yOZWZ",
        "outputId": "7d2c0bd7-6907-4398-c385-829b04ad921e"
      },
      "source": [
        "old_df"
      ],
      "execution_count": null,
      "outputs": [
        {
          "output_type": "execute_result",
          "data": {
            "text/html": [
              "<div>\n",
              "<style scoped>\n",
              "    .dataframe tbody tr th:only-of-type {\n",
              "        vertical-align: middle;\n",
              "    }\n",
              "\n",
              "    .dataframe tbody tr th {\n",
              "        vertical-align: top;\n",
              "    }\n",
              "\n",
              "    .dataframe thead th {\n",
              "        text-align: right;\n",
              "    }\n",
              "</style>\n",
              "<table border=\"1\" class=\"dataframe\">\n",
              "  <thead>\n",
              "    <tr style=\"text-align: right;\">\n",
              "      <th></th>\n",
              "      <th>director_name</th>\n",
              "      <th>actor_1_name</th>\n",
              "      <th>actor_2_name</th>\n",
              "      <th>actor_3_name</th>\n",
              "      <th>genres</th>\n",
              "      <th>movie_title</th>\n",
              "      <th>comb</th>\n",
              "    </tr>\n",
              "  </thead>\n",
              "  <tbody>\n",
              "    <tr>\n",
              "      <th>0</th>\n",
              "      <td>James Cameron</td>\n",
              "      <td>CCH Pounder</td>\n",
              "      <td>Joel David Moore</td>\n",
              "      <td>Wes Studi</td>\n",
              "      <td>Action Adventure Fantasy Sci-Fi</td>\n",
              "      <td>avatar</td>\n",
              "      <td>CCH Pounder Joel David Moore Wes Studi James C...</td>\n",
              "    </tr>\n",
              "    <tr>\n",
              "      <th>1</th>\n",
              "      <td>Gore Verbinski</td>\n",
              "      <td>Johnny Depp</td>\n",
              "      <td>Orlando Bloom</td>\n",
              "      <td>Jack Davenport</td>\n",
              "      <td>Action Adventure Fantasy</td>\n",
              "      <td>pirates of the caribbean: at world's end</td>\n",
              "      <td>Johnny Depp Orlando Bloom Jack Davenport Gore ...</td>\n",
              "    </tr>\n",
              "    <tr>\n",
              "      <th>2</th>\n",
              "      <td>Sam Mendes</td>\n",
              "      <td>Christoph Waltz</td>\n",
              "      <td>Rory Kinnear</td>\n",
              "      <td>Stephanie Sigman</td>\n",
              "      <td>Action Adventure Thriller</td>\n",
              "      <td>spectre</td>\n",
              "      <td>Christoph Waltz Rory Kinnear Stephanie Sigman ...</td>\n",
              "    </tr>\n",
              "    <tr>\n",
              "      <th>3</th>\n",
              "      <td>Christopher Nolan</td>\n",
              "      <td>Tom Hardy</td>\n",
              "      <td>Christian Bale</td>\n",
              "      <td>Joseph Gordon-Levitt</td>\n",
              "      <td>Action Thriller</td>\n",
              "      <td>the dark knight rises</td>\n",
              "      <td>Tom Hardy Christian Bale Joseph Gordon-Levitt ...</td>\n",
              "    </tr>\n",
              "    <tr>\n",
              "      <th>4</th>\n",
              "      <td>Doug Walker</td>\n",
              "      <td>Doug Walker</td>\n",
              "      <td>Rob Walker</td>\n",
              "      <td>unknown</td>\n",
              "      <td>Documentary</td>\n",
              "      <td>star wars: episode vii - the force awakens    ...</td>\n",
              "      <td>Doug Walker Rob Walker unknown Doug Walker Doc...</td>\n",
              "    </tr>\n",
              "    <tr>\n",
              "      <th>...</th>\n",
              "      <td>...</td>\n",
              "      <td>...</td>\n",
              "      <td>...</td>\n",
              "      <td>...</td>\n",
              "      <td>...</td>\n",
              "      <td>...</td>\n",
              "      <td>...</td>\n",
              "    </tr>\n",
              "    <tr>\n",
              "      <th>5864</th>\n",
              "      <td>Greta Gerwig</td>\n",
              "      <td>Saoirse Ronan</td>\n",
              "      <td>Emma Watson</td>\n",
              "      <td>Florence Pugh</td>\n",
              "      <td>Drama Romance</td>\n",
              "      <td>little women</td>\n",
              "      <td>Saoirse Ronan Emma Watson Florence Pugh Greta ...</td>\n",
              "    </tr>\n",
              "    <tr>\n",
              "      <th>5865</th>\n",
              "      <td>Sam Mendes</td>\n",
              "      <td>George MacKay</td>\n",
              "      <td>Dean-Charles Chapman</td>\n",
              "      <td>Mark Strong</td>\n",
              "      <td>War Drama Action History</td>\n",
              "      <td>1917</td>\n",
              "      <td>George MacKay Dean-Charles Chapman Mark Strong...</td>\n",
              "    </tr>\n",
              "    <tr>\n",
              "      <th>5866</th>\n",
              "      <td>Destin Daniel Cretton</td>\n",
              "      <td>Michael B. Jordan</td>\n",
              "      <td>Jamie Foxx</td>\n",
              "      <td>Brie Larson</td>\n",
              "      <td>Drama Crime</td>\n",
              "      <td>just mercy</td>\n",
              "      <td>Michael B. Jordan Jamie Foxx Brie Larson Desti...</td>\n",
              "    </tr>\n",
              "    <tr>\n",
              "      <th>5867</th>\n",
              "      <td>Chinonye Chukwu</td>\n",
              "      <td>Alfre Woodard</td>\n",
              "      <td>Wendell Pierce</td>\n",
              "      <td>Aldis Hodge</td>\n",
              "      <td>Drama</td>\n",
              "      <td>clemency</td>\n",
              "      <td>Alfre Woodard Wendell Pierce Aldis Hodge Chino...</td>\n",
              "    </tr>\n",
              "    <tr>\n",
              "      <th>5868</th>\n",
              "      <td>Waymon Boone</td>\n",
              "      <td>Mena Suvari</td>\n",
              "      <td>Kevin Pollak</td>\n",
              "      <td>unknown</td>\n",
              "      <td>Horror Thriller</td>\n",
              "      <td>apparition</td>\n",
              "      <td>Mena Suvari Kevin Pollak unknown Waymon Boone ...</td>\n",
              "    </tr>\n",
              "  </tbody>\n",
              "</table>\n",
              "<p>5869 rows × 7 columns</p>\n",
              "</div>"
            ],
            "text/plain": [
              "              director_name       actor_1_name          actor_2_name  \\\n",
              "0             James Cameron        CCH Pounder      Joel David Moore   \n",
              "1            Gore Verbinski        Johnny Depp         Orlando Bloom   \n",
              "2                Sam Mendes    Christoph Waltz          Rory Kinnear   \n",
              "3         Christopher Nolan          Tom Hardy        Christian Bale   \n",
              "4               Doug Walker        Doug Walker            Rob Walker   \n",
              "...                     ...                ...                   ...   \n",
              "5864           Greta Gerwig      Saoirse Ronan           Emma Watson   \n",
              "5865             Sam Mendes      George MacKay  Dean-Charles Chapman   \n",
              "5866  Destin Daniel Cretton  Michael B. Jordan            Jamie Foxx   \n",
              "5867        Chinonye Chukwu      Alfre Woodard        Wendell Pierce   \n",
              "5868           Waymon Boone        Mena Suvari          Kevin Pollak   \n",
              "\n",
              "              actor_3_name                           genres  \\\n",
              "0                Wes Studi  Action Adventure Fantasy Sci-Fi   \n",
              "1           Jack Davenport         Action Adventure Fantasy   \n",
              "2         Stephanie Sigman        Action Adventure Thriller   \n",
              "3     Joseph Gordon-Levitt                  Action Thriller   \n",
              "4                  unknown                      Documentary   \n",
              "...                    ...                              ...   \n",
              "5864         Florence Pugh                    Drama Romance   \n",
              "5865           Mark Strong         War Drama Action History   \n",
              "5866           Brie Larson                      Drama Crime   \n",
              "5867           Aldis Hodge                            Drama   \n",
              "5868               unknown                  Horror Thriller   \n",
              "\n",
              "                                            movie_title  \\\n",
              "0                                                avatar   \n",
              "1              pirates of the caribbean: at world's end   \n",
              "2                                               spectre   \n",
              "3                                 the dark knight rises   \n",
              "4     star wars: episode vii - the force awakens    ...   \n",
              "...                                                 ...   \n",
              "5864                                       little women   \n",
              "5865                                               1917   \n",
              "5866                                         just mercy   \n",
              "5867                                           clemency   \n",
              "5868                                         apparition   \n",
              "\n",
              "                                                   comb  \n",
              "0     CCH Pounder Joel David Moore Wes Studi James C...  \n",
              "1     Johnny Depp Orlando Bloom Jack Davenport Gore ...  \n",
              "2     Christoph Waltz Rory Kinnear Stephanie Sigman ...  \n",
              "3     Tom Hardy Christian Bale Joseph Gordon-Levitt ...  \n",
              "4     Doug Walker Rob Walker unknown Doug Walker Doc...  \n",
              "...                                                 ...  \n",
              "5864  Saoirse Ronan Emma Watson Florence Pugh Greta ...  \n",
              "5865  George MacKay Dean-Charles Chapman Mark Strong...  \n",
              "5866  Michael B. Jordan Jamie Foxx Brie Larson Desti...  \n",
              "5867  Alfre Woodard Wendell Pierce Aldis Hodge Chino...  \n",
              "5868  Mena Suvari Kevin Pollak unknown Waymon Boone ...  \n",
              "\n",
              "[5869 rows x 7 columns]"
            ]
          },
          "metadata": {
            "tags": []
          },
          "execution_count": 39
        }
      ]
    },
    {
      "cell_type": "code",
      "metadata": {
        "id": "P14B9e3GOZWZ"
      },
      "source": [
        "final_df = old_df.append(new_df20,ignore_index=True)"
      ],
      "execution_count": null,
      "outputs": []
    },
    {
      "cell_type": "code",
      "metadata": {
        "id": "0RAVcY-jOZWZ",
        "outputId": "0e87fe5f-5a7a-4792-edf3-a5027e667af0"
      },
      "source": [
        "final_df"
      ],
      "execution_count": null,
      "outputs": [
        {
          "output_type": "execute_result",
          "data": {
            "text/html": [
              "<div>\n",
              "<style scoped>\n",
              "    .dataframe tbody tr th:only-of-type {\n",
              "        vertical-align: middle;\n",
              "    }\n",
              "\n",
              "    .dataframe tbody tr th {\n",
              "        vertical-align: top;\n",
              "    }\n",
              "\n",
              "    .dataframe thead th {\n",
              "        text-align: right;\n",
              "    }\n",
              "</style>\n",
              "<table border=\"1\" class=\"dataframe\">\n",
              "  <thead>\n",
              "    <tr style=\"text-align: right;\">\n",
              "      <th></th>\n",
              "      <th>director_name</th>\n",
              "      <th>actor_1_name</th>\n",
              "      <th>actor_2_name</th>\n",
              "      <th>actor_3_name</th>\n",
              "      <th>genres</th>\n",
              "      <th>movie_title</th>\n",
              "      <th>comb</th>\n",
              "    </tr>\n",
              "  </thead>\n",
              "  <tbody>\n",
              "    <tr>\n",
              "      <th>0</th>\n",
              "      <td>James Cameron</td>\n",
              "      <td>CCH Pounder</td>\n",
              "      <td>Joel David Moore</td>\n",
              "      <td>Wes Studi</td>\n",
              "      <td>Action Adventure Fantasy Sci-Fi</td>\n",
              "      <td>avatar</td>\n",
              "      <td>CCH Pounder Joel David Moore Wes Studi James C...</td>\n",
              "    </tr>\n",
              "    <tr>\n",
              "      <th>1</th>\n",
              "      <td>Gore Verbinski</td>\n",
              "      <td>Johnny Depp</td>\n",
              "      <td>Orlando Bloom</td>\n",
              "      <td>Jack Davenport</td>\n",
              "      <td>Action Adventure Fantasy</td>\n",
              "      <td>pirates of the caribbean: at world's end</td>\n",
              "      <td>Johnny Depp Orlando Bloom Jack Davenport Gore ...</td>\n",
              "    </tr>\n",
              "    <tr>\n",
              "      <th>2</th>\n",
              "      <td>Sam Mendes</td>\n",
              "      <td>Christoph Waltz</td>\n",
              "      <td>Rory Kinnear</td>\n",
              "      <td>Stephanie Sigman</td>\n",
              "      <td>Action Adventure Thriller</td>\n",
              "      <td>spectre</td>\n",
              "      <td>Christoph Waltz Rory Kinnear Stephanie Sigman ...</td>\n",
              "    </tr>\n",
              "    <tr>\n",
              "      <th>3</th>\n",
              "      <td>Christopher Nolan</td>\n",
              "      <td>Tom Hardy</td>\n",
              "      <td>Christian Bale</td>\n",
              "      <td>Joseph Gordon-Levitt</td>\n",
              "      <td>Action Thriller</td>\n",
              "      <td>the dark knight rises</td>\n",
              "      <td>Tom Hardy Christian Bale Joseph Gordon-Levitt ...</td>\n",
              "    </tr>\n",
              "    <tr>\n",
              "      <th>4</th>\n",
              "      <td>Doug Walker</td>\n",
              "      <td>Doug Walker</td>\n",
              "      <td>Rob Walker</td>\n",
              "      <td>unknown</td>\n",
              "      <td>Documentary</td>\n",
              "      <td>star wars: episode vii - the force awakens    ...</td>\n",
              "      <td>Doug Walker Rob Walker unknown Doug Walker Doc...</td>\n",
              "    </tr>\n",
              "    <tr>\n",
              "      <th>...</th>\n",
              "      <td>...</td>\n",
              "      <td>...</td>\n",
              "      <td>...</td>\n",
              "      <td>...</td>\n",
              "      <td>...</td>\n",
              "      <td>...</td>\n",
              "      <td>...</td>\n",
              "    </tr>\n",
              "    <tr>\n",
              "      <th>6005</th>\n",
              "      <td>Joseph Kosinski</td>\n",
              "      <td>Tom Cruise</td>\n",
              "      <td>Miles Teller</td>\n",
              "      <td>Jennifer Connelly</td>\n",
              "      <td>Action Drama</td>\n",
              "      <td>top gun: maverick</td>\n",
              "      <td>Tom Cruise Miles Teller Jennifer Connelly Jose...</td>\n",
              "    </tr>\n",
              "    <tr>\n",
              "      <th>6006</th>\n",
              "      <td>Joel Crawford</td>\n",
              "      <td>Nicolas Cage</td>\n",
              "      <td>Emma Stone</td>\n",
              "      <td>Ryan Reynolds</td>\n",
              "      <td>Animation Adventure Family</td>\n",
              "      <td>the croods 2</td>\n",
              "      <td>Nicolas Cage Emma Stone Ryan Reynolds Joel Cra...</td>\n",
              "    </tr>\n",
              "    <tr>\n",
              "      <th>6007</th>\n",
              "      <td>Liesl Tommy</td>\n",
              "      <td>Jennifer Hudson</td>\n",
              "      <td>Forest Whitaker</td>\n",
              "      <td>Marlon Wayans</td>\n",
              "      <td>Music Drama</td>\n",
              "      <td>respect</td>\n",
              "      <td>Jennifer Hudson Forest Whitaker Marlon Wayans ...</td>\n",
              "    </tr>\n",
              "    <tr>\n",
              "      <th>6008</th>\n",
              "      <td>Ridley Scott</td>\n",
              "      <td>Matt Damon</td>\n",
              "      <td>Adam Driver</td>\n",
              "      <td>Jodie Comer</td>\n",
              "      <td>Drama</td>\n",
              "      <td>the last duel</td>\n",
              "      <td>Matt Damon Adam Driver Jodie Comer Ridley Scot...</td>\n",
              "    </tr>\n",
              "    <tr>\n",
              "      <th>6009</th>\n",
              "      <td>Paul Greengrass</td>\n",
              "      <td>Tom Hanks</td>\n",
              "      <td>Helena Zengel</td>\n",
              "      <td>Neil Sandilands</td>\n",
              "      <td>Drama Western</td>\n",
              "      <td>news of the world</td>\n",
              "      <td>Tom Hanks Helena Zengel Neil Sandilands Paul G...</td>\n",
              "    </tr>\n",
              "  </tbody>\n",
              "</table>\n",
              "<p>6010 rows × 7 columns</p>\n",
              "</div>"
            ],
            "text/plain": [
              "          director_name     actor_1_name      actor_2_name  \\\n",
              "0         James Cameron      CCH Pounder  Joel David Moore   \n",
              "1        Gore Verbinski      Johnny Depp     Orlando Bloom   \n",
              "2            Sam Mendes  Christoph Waltz      Rory Kinnear   \n",
              "3     Christopher Nolan        Tom Hardy    Christian Bale   \n",
              "4           Doug Walker      Doug Walker        Rob Walker   \n",
              "...                 ...              ...               ...   \n",
              "6005    Joseph Kosinski       Tom Cruise      Miles Teller   \n",
              "6006      Joel Crawford     Nicolas Cage        Emma Stone   \n",
              "6007        Liesl Tommy  Jennifer Hudson   Forest Whitaker   \n",
              "6008       Ridley Scott       Matt Damon       Adam Driver   \n",
              "6009    Paul Greengrass        Tom Hanks     Helena Zengel   \n",
              "\n",
              "              actor_3_name                           genres  \\\n",
              "0                Wes Studi  Action Adventure Fantasy Sci-Fi   \n",
              "1           Jack Davenport         Action Adventure Fantasy   \n",
              "2         Stephanie Sigman        Action Adventure Thriller   \n",
              "3     Joseph Gordon-Levitt                  Action Thriller   \n",
              "4                  unknown                      Documentary   \n",
              "...                    ...                              ...   \n",
              "6005     Jennifer Connelly                     Action Drama   \n",
              "6006         Ryan Reynolds       Animation Adventure Family   \n",
              "6007         Marlon Wayans                      Music Drama   \n",
              "6008           Jodie Comer                            Drama   \n",
              "6009       Neil Sandilands                    Drama Western   \n",
              "\n",
              "                                            movie_title  \\\n",
              "0                                                avatar   \n",
              "1              pirates of the caribbean: at world's end   \n",
              "2                                               spectre   \n",
              "3                                 the dark knight rises   \n",
              "4     star wars: episode vii - the force awakens    ...   \n",
              "...                                                 ...   \n",
              "6005                                  top gun: maverick   \n",
              "6006                                       the croods 2   \n",
              "6007                                            respect   \n",
              "6008                                      the last duel   \n",
              "6009                                  news of the world   \n",
              "\n",
              "                                                   comb  \n",
              "0     CCH Pounder Joel David Moore Wes Studi James C...  \n",
              "1     Johnny Depp Orlando Bloom Jack Davenport Gore ...  \n",
              "2     Christoph Waltz Rory Kinnear Stephanie Sigman ...  \n",
              "3     Tom Hardy Christian Bale Joseph Gordon-Levitt ...  \n",
              "4     Doug Walker Rob Walker unknown Doug Walker Doc...  \n",
              "...                                                 ...  \n",
              "6005  Tom Cruise Miles Teller Jennifer Connelly Jose...  \n",
              "6006  Nicolas Cage Emma Stone Ryan Reynolds Joel Cra...  \n",
              "6007  Jennifer Hudson Forest Whitaker Marlon Wayans ...  \n",
              "6008  Matt Damon Adam Driver Jodie Comer Ridley Scot...  \n",
              "6009  Tom Hanks Helena Zengel Neil Sandilands Paul G...  \n",
              "\n",
              "[6010 rows x 7 columns]"
            ]
          },
          "metadata": {
            "tags": []
          },
          "execution_count": 41
        }
      ]
    },
    {
      "cell_type": "code",
      "metadata": {
        "id": "gCTWwaOiOZWZ"
      },
      "source": [
        "final_df.to_csv('main_data.csv',index=False)"
      ],
      "execution_count": null,
      "outputs": []
    }
  ]
}